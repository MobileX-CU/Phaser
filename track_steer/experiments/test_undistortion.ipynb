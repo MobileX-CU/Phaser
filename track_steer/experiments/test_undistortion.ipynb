{
 "cells": [
  {
   "cell_type": "code",
   "execution_count": 2,
   "metadata": {},
   "outputs": [
    {
     "name": "stdout",
     "output_type": "stream",
     "text": [
      "[681 338] [872 197]\n",
      "(682, 339) (872, 196)\n"
     ]
    },
    {
     "ename": "",
     "evalue": "",
     "output_type": "error",
     "traceback": [
      "\u001b[1;31mThe Kernel crashed while executing code in the current cell or a previous cell. \n",
      "\u001b[1;31mPlease review the code in the cell(s) to identify a possible cause of the failure. \n",
      "\u001b[1;31mClick <a href='https://aka.ms/vscodeJupyterKernelCrash'>here</a> for more info. \n",
      "\u001b[1;31mView Jupyter <a href='command:jupyter.viewOutput'>log</a> for further details."
     ]
    }
   ],
   "source": [
    "\"\"\"\n",
    "Sanity check that our use of cv2.undistoryPoints is correct.\n",
    "The alternative is to undistort the image first and then find a point in the undistorted image, but this is\n",
    "computationally inefficient.\n",
    "\"\"\"\n",
    "\n",
    "import cv2\n",
    "from im_proc import select_test_correspondences, get_brightest_contour\n",
    "from stereo_calibration import *\n",
    "import pickle\n",
    "import numpy as np\n",
    "\n",
    "with open(\"params/stereo_params_jul3.pkl\", \"rb\") as f:\n",
    "    stereo_params = pickle.load(f)\n",
    "\n",
    "left_img = cv2.imread(\"img1.png\")\n",
    "left_blob = get_brightest_contour(left_img, otsu_adjustment=20)\n",
    "right_img = cv2.imread(\"img2.png\")\n",
    "right_blob = get_brightest_contour(right_img, otsu_adjustment=15)\n",
    "\n",
    "# find blobs in distorted images and then undistort the blob center points\n",
    "uvs1 = np.array([left_blob[\"center\"]]).astype(np.float32)\n",
    "uvs2 = np.array([right_blob[\"center\"]]).astype(np.float32)\n",
    "uvs1_undistorted = cv2.undistortPoints(uvs1, stereo_params.cam1_params.K, stereo_params.cam1_params.D, P = stereo_params.cam1_params.K)\n",
    "uvs2_undistorted = cv2.undistortPoints(uvs2, stereo_params.cam2_params.K, stereo_params.cam2_params.D, P = stereo_params.cam2_params.K)\n",
    "uvs1_undistorted = uvs1_undistorted.astype(int)\n",
    "uvs2_undistorted = uvs2_undistorted.astype(int)\n",
    "left_img_vis = left_img.copy()\n",
    "right_img_vis = right_img.copy()\n",
    "cv2.drawMarker(left_img_vis, uvs1_undistorted[0][0], (0, 255, 0), markerSize=30, thickness=2)\n",
    "cv2.drawMarker(right_img_vis, uvs2_undistorted[0][0], (0, 255, 0), markerSize=30, thickness=2)\n",
    "print(uvs1_undistorted[0][0], uvs2_undistorted[0][0])\n",
    "disp_img = np.hstack((left_img_vis, right_img_vis))\n",
    "cv2.imshow(\"blobs\", disp_img)\n",
    "k = cv2.waitKey(1)\n",
    "if k == ord('q'):\n",
    "    cv2.destroyAllWindows()\n",
    "\n",
    "\n",
    "\n",
    "# now undistort image first and then find the blob\n",
    "left_img_undistorted = undistort(left_img, stereo_params.cam1_params)\n",
    "right_img_undistorted = undistort(right_img, stereo_params.cam2_params)\n",
    "left_blob = get_brightest_contour(left_img_undistorted, otsu_adjustment=20)\n",
    "right_blob = get_brightest_contour(right_img_undistorted, otsu_adjustment=15)\n",
    "cv2.drawMarker(left_img_undistorted, tuple(left_blob[\"center\"]), (0, 0, 255), markerSize=30, thickness=2)\n",
    "cv2.drawMarker(right_img_undistorted, tuple(right_blob[\"center\"]), (0, 0, 255), markerSize=30, thickness=2)\n",
    "cv2.drawMarker(left_img_undistorted, np.array(uvs1_undistorted[0][0]).astype(int), (0, 255, 0), markerSize=30, thickness=2)\n",
    "cv2.drawMarker(right_img_undistorted, np.array(uvs2_undistorted[0][0]).astype(int), (0, 255, 0), markerSize=30, thickness=2)\n",
    "print(left_blob[\"center\"], right_blob[\"center\"])\n",
    "undistorted_disp_img = np.hstack((left_img_undistorted, right_img_undistorted))\n",
    "cv2.imshow(\"Undistorted\", undistorted_disp_img)\n",
    "k = cv2.waitKey(1)\n",
    "if k == ord('q'):\n",
    "    cv2.destroyAllWindows()\n",
    "\n"
   ]
  }
 ],
 "metadata": {
  "kernelspec": {
   "display_name": "power",
   "language": "python",
   "name": "python3"
  },
  "language_info": {
   "codemirror_mode": {
    "name": "ipython",
    "version": 3
   },
   "file_extension": ".py",
   "mimetype": "text/x-python",
   "name": "python",
   "nbconvert_exporter": "python",
   "pygments_lexer": "ipython3",
   "version": "3.9.19"
  }
 },
 "nbformat": 4,
 "nbformat_minor": 2
}
