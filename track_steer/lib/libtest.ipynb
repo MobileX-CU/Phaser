{
 "cells": [
  {
   "cell_type": "code",
   "execution_count": 1,
   "metadata": {},
   "outputs": [],
   "source": [
    "%load_ext autoreload\n",
    "%autoreload 2"
   ]
  },
  {
   "cell_type": "code",
   "execution_count": 2,
   "metadata": {},
   "outputs": [],
   "source": [
    "import vxcam\n",
    "import vmbpy\n",
    "import cv2 as cv\n",
    "import time\n",
    "import numpy as np\n",
    "\n",
    "i = 0\n",
    "N = 100\n",
    "fps = np.zeros(N)\n",
    "t0 = time.time()\n",
    "with vxcam.VXCam() as vx:\n",
    "    vx.pixel_format = vmbpy.PixelFormat.Mono8\n",
    "    vx.auto_exposure = 'Off'\n",
    "    vx.exposure_us = 20000\n",
    "    vx.gain_db = 10\n",
    "    \n",
    "    # Padding is from [0..1] relative to the left, right, top, bottom extents\n",
    "    vx.binning = 2\n",
    "    vx.pad_right = 0\n",
    "    vx.pad_left = 0\n",
    "    vx.pad_top = 0\n",
    "    vx.pad_bottom = 0\n",
    "\n",
    "    # Start streaming, can't update again until vx.stop() is called\n",
    "    vx.start()\n",
    "    try:\n",
    "        while True:\n",
    "            \n",
    "            # Pop latest image and convert to openCV format\n",
    "            img = vx.pop(vmbpy.PixelFormat.Mono8) \n",
    "            if img is None: continue\n",
    "            \n",
    "            cv2.putText(img, f'{np.mean(fps):.0f}fps', (0, 20), cv2.FONT_HERSHEY_SIMPLEX, 0.75, 255, thickness=2)\n",
    "            cv2.imshow('', img)\n",
    "            if cv2.waitKey(1) == ord('q'): break\n",
    "\n",
    "            # FPS calculations\n",
    "            fps[i % N] = 1/(time.time() - t0)\n",
    "            t0 = time.time()\n",
    "            i += 1\n",
    "    except KeyboardInterrupt:\n",
    "        pass\n",
    "    finally:\n",
    "        cv2.destroyAllWindows()\n",
    "        cv2.waitKey(1)"
   ]
  }
 ],
 "metadata": {
  "kernelspec": {
   "display_name": "vmb",
   "language": "python",
   "name": "python3"
  },
  "language_info": {
   "codemirror_mode": {
    "name": "ipython",
    "version": 3
   },
   "file_extension": ".py",
   "mimetype": "text/x-python",
   "name": "python",
   "nbconvert_exporter": "python",
   "pygments_lexer": "ipython3",
   "version": "3.9.19"
  }
 },
 "nbformat": 4,
 "nbformat_minor": 2
}
